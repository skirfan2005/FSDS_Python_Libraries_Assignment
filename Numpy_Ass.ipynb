{
 "cells": [
  {
   "cell_type": "code",
   "execution_count": 52,
   "id": "3fdd353e-62b4-4e28-945f-a614d2f7cf7f",
   "metadata": {},
   "outputs": [],
   "source": [
    "import numpy as np"
   ]
  },
  {
   "cell_type": "code",
   "execution_count": 53,
   "id": "e47002a1-209e-4e8d-a004-c18260a613dd",
   "metadata": {},
   "outputs": [],
   "source": [
    "#1. What is a Python library? Why do we use Python libraries?\n",
    "\n",
    "#Answer:In my own words i can say that python library is a \n",
    "#collection of optimized functions.We use python libraries \n",
    "#because to increase the reusability and we can complete our\n",
    "#task so fast.Some of the examples of important python libraries \n",
    "#are Numpy,Pandas,etc,....."
   ]
  },
  {
   "cell_type": "code",
   "execution_count": 54,
   "id": "05f0f1db-2257-4df6-8f2e-adaca556e4a4",
   "metadata": {},
   "outputs": [],
   "source": [
    "#2. What is the difference between Numpy array and List?\n",
    "\n",
    "#Answer:In my point of view the main differences are:\n",
    "#1) Arrays are faster than list in terms of Access and etc.\n",
    "#2) Arrays store Homogenous data whereas list stores Hetrogenous data.\n",
    "#3) Arrays store the data in contiguous fashion but list will not. "
   ]
  },
  {
   "cell_type": "code",
   "execution_count": 55,
   "id": "ccfd5caf-8584-497e-b1fd-c5e69e696afc",
   "metadata": {},
   "outputs": [
    {
     "name": "stdout",
     "output_type": "stream",
     "text": [
      "Shape of the Array is  (3, 4)\n",
      "Size of the Array is  12\n",
      "Dimension of the Array is  2\n"
     ]
    }
   ],
   "source": [
    "#3. Find the shape, size and dimension of the following array?\n",
    "#[[1, 2, 3, 4],\n",
    "#[5, 6, 7, 8],\n",
    "#[9, 10, 11, 12]]\n",
    "\n",
    "#Answer:\n",
    "arr=np.array([[1, 2, 3, 4],\n",
    "            [5, 6, 7, 8],\n",
    "            [9, 10, 11, 12]])\n",
    "print(\"Shape of the Array is \", np.shape(arr))\n",
    "print(\"Size of the Array is \", np.size(arr))\n",
    "print(\"Dimension of the Array is \", np.ndim(arr))"
   ]
  },
  {
   "cell_type": "code",
   "execution_count": 56,
   "id": "bb0fc8bd-ee79-4dd2-a9fc-ff47ef189d8f",
   "metadata": {},
   "outputs": [
    {
     "name": "stdout",
     "output_type": "stream",
     "text": [
      "Access the first row of the following array  [1 2 3 4]\n"
     ]
    }
   ],
   "source": [
    "#4. Write python code to access the first row of the following array?\n",
    "#[[1, 2, 3, 4],\n",
    "#[5, 6, 7, 8],\n",
    "#[9, 10, 11, 12]]\n",
    "\n",
    "#Answer:\n",
    "print(\"Access the first row of the following array \", arr[0])"
   ]
  },
  {
   "cell_type": "code",
   "execution_count": 57,
   "id": "1cdb9fbe-007b-4a39-8738-122e36c1901d",
   "metadata": {},
   "outputs": [
    {
     "name": "stdout",
     "output_type": "stream",
     "text": [
      "Access the element at the third row and fourth column of the following array  12\n"
     ]
    }
   ],
   "source": [
    "#5. How do you access the element at the third row and fourth column from the given numpy array?\n",
    "#[[1, 2, 3, 4],\n",
    "#[5, 6, 7, 8],\n",
    "#[9, 10, 11, 12]]\n",
    "\n",
    "#Answer:\n",
    "print(\"Access the element at the third row and fourth column of the following array \", arr[2][3])"
   ]
  },
  {
   "cell_type": "code",
   "execution_count": 58,
   "id": "9efd6300-16ed-4190-bb01-fbf8b201db17",
   "metadata": {},
   "outputs": [
    {
     "name": "stdout",
     "output_type": "stream",
     "text": [
      "Extract all odd-indexed elements of the following array \n",
      "[[ 2  4]\n",
      " [ 6  8]\n",
      " [10 12]]\n"
     ]
    }
   ],
   "source": [
    "#6. Write code to extract all odd-indexed elements from the given numpy array?\n",
    "#[[1, 2, 3, 4],\n",
    "#[5, 6, 7, 8],\n",
    "#[9, 10, 11, 12]]\n",
    "\n",
    "#Answer:\n",
    "print(\"Extract all odd-indexed elements of the following array \")\n",
    "print(arr[:,1::2])"
   ]
  },
  {
   "cell_type": "code",
   "execution_count": 59,
   "id": "17f8b9d3-d19a-4134-80c8-ff38e7caa370",
   "metadata": {},
   "outputs": [
    {
     "name": "stdout",
     "output_type": "stream",
     "text": [
      "[[0.55209273 0.15046768 0.20072225]\n",
      " [0.01278593 0.14143474 0.95247157]\n",
      " [0.33969075 0.95029777 0.29247033]]\n"
     ]
    }
   ],
   "source": [
    "#7. How can you generate a random 3x3 matrix with values between 0 and 1?\n",
    "\n",
    "#Answer:\n",
    "print(np.random.random((3,3)))"
   ]
  },
  {
   "cell_type": "code",
   "execution_count": 60,
   "id": "585d0e7d-7448-414c-974c-8df2bc8128e0",
   "metadata": {},
   "outputs": [
    {
     "name": "stdout",
     "output_type": "stream",
     "text": [
      "[[0.42893698 0.48659777 0.09252453]\n",
      " [0.17653536 0.54963347 0.31375439]\n",
      " [0.08923011 0.80285351 0.59195465]]\n",
      "[[ 0.86603224 -0.44500757  0.72488594]\n",
      " [-0.75610601  0.00975276 -0.61766873]\n",
      " [ 0.07299589  0.30672805 -0.89394984]]\n"
     ]
    }
   ],
   "source": [
    "#8. Describe the difference between np.random.rand and np.random.randn?\n",
    "\n",
    "#Answer:\n",
    "#1. np.random.rand will gives the array with elements that lie between\n",
    "# 0 and 1 where 0 is included and 1 is excluded of given shape.\n",
    "#2. np.random.randn will used to generate an array of random numbers \n",
    "#from a standard normal distribution \n",
    "#Examples\n",
    "print(np.random.rand(3,3))\n",
    "print(np.random.randn(3,3))"
   ]
  },
  {
   "cell_type": "code",
   "execution_count": 61,
   "id": "0e7811fe-ef37-4050-b62e-8a23fc7f5778",
   "metadata": {},
   "outputs": [
    {
     "name": "stdout",
     "output_type": "stream",
     "text": [
      "[[[ 1  2  3  4]\n",
      "  [ 5  6  7  8]\n",
      "  [ 9 10 11 12]]]\n"
     ]
    }
   ],
   "source": [
    "#9. Write code to increase the dimension of the following array?\n",
    "#[[1, 2, 3, 4],\n",
    "#[5, 6, 7, 8],\n",
    "#[9, 10, 11, 12]]\n",
    "\n",
    "#Answer:\n",
    "print(np.expand_dims(arr,axis=0))"
   ]
  },
  {
   "cell_type": "code",
   "execution_count": 62,
   "id": "ea949c95-d68e-4dbc-adc9-386efd67f01d",
   "metadata": {},
   "outputs": [
    {
     "name": "stdout",
     "output_type": "stream",
     "text": [
      "we can use Array.T in numpy for transpose\n",
      "[[ 1  5  9]\n",
      " [ 2  6 10]\n",
      " [ 3  7 11]\n",
      " [ 4  8 12]]\n"
     ]
    }
   ],
   "source": [
    "#10. How to transpose the following array in NumPy?\n",
    "#[[1, 2, 3, 4],\n",
    "#[5, 6, 7, 8],\n",
    "#[9, 10, 11, 12]]\n",
    "\n",
    "#Answer:\n",
    "print(\"we can use Array.T in numpy for transpose\")\n",
    "print(arr.T)"
   ]
  },
  {
   "cell_type": "code",
   "execution_count": 63,
   "id": "6bba19a6-57c6-4ab6-bd71-845369db4ec8",
   "metadata": {},
   "outputs": [
    {
     "name": "stdout",
     "output_type": "stream",
     "text": [
      "1.Index wise multiplication:\n",
      "[[  1   4   9  16]\n",
      " [ 25  36  49  64]\n",
      " [ 81 100 121 144]]\n",
      "2.Matrix multiplication:\n",
      "This cannot be possible because 3x4 and 3x4 4 and 3 not same so matrix multiplication is not possible\n",
      "To do matrix multiplication we have to do A @ B\n",
      "3.Add both the matrics:\n",
      "[[ 2  4  6  8]\n",
      " [10 12 14 16]\n",
      " [18 20 22 24]]\n",
      "4.Subtact matix B from A:\n",
      "[[0 0 0 0]\n",
      " [0 0 0 0]\n",
      " [0 0 0 0]]\n",
      "5.Divide Matrix B by A:\n",
      "[[1. 1. 1. 1.]\n",
      " [1. 1. 1. 1.]\n",
      " [1. 1. 1. 1.]]\n"
     ]
    }
   ],
   "source": [
    "#11. Consider the following matrix:\n",
    "#Matrix A: [[1, 2, 3, 4],[5, 6, 7, 8],[9, 10, 11, 12]]\n",
    "#Matrix B: [[1, 2, 3, 4],[5, 6, 7, 8],[9, 10, 11, 12]]\n",
    "#Perform the following operation using Python:\n",
    "#1.Index wise multiplication\n",
    "#2.Matrix multiplication\n",
    "#3.Add both the matrics\n",
    "#4.Subtact matix B from A\n",
    "#5.Divide Matrix B by A\n",
    "\n",
    "#Answer:\n",
    "A=np.array([[1, 2, 3, 4],[5, 6, 7, 8],[9, 10, 11, 12]])\n",
    "B=np.array([[1, 2, 3, 4],[5, 6, 7, 8],[9, 10, 11, 12]])\n",
    "print(\"1.Index wise multiplication:\")\n",
    "print(A*B)\n",
    "print(\"2.Matrix multiplication:\")\n",
    "print(\"This cannot be possible because 3x4 and 3x4 4 and 3 not same so matrix multiplication is not possible\")\n",
    "print(\"To do matrix multiplication we have to do A @ B\")\n",
    "print(\"3.Add both the matrics:\")\n",
    "print(A+B)\n",
    "print(\"4.Subtact matix B from A:\")\n",
    "print(A-B)\n",
    "print(\"5.Divide Matrix B by A:\")\n",
    "print(B/A)"
   ]
  },
  {
   "cell_type": "code",
   "execution_count": 64,
   "id": "00369a54-6e75-4656-9a72-e5b748314772",
   "metadata": {},
   "outputs": [],
   "source": [
    "#12. Which function in Numpy can be used to swap the byte order of an array?\n",
    "\n",
    "#Answer:\n",
    "#We can use array.byteswap() to swap the byte order of an array"
   ]
  },
  {
   "cell_type": "code",
   "execution_count": 65,
   "id": "302a3c91-762b-4114-9e86-9a87511a0a80",
   "metadata": {},
   "outputs": [],
   "source": [
    "#13. What is the significance of the np.linalg.inv function?\n",
    "\n",
    "#Answer:\n",
    "#It calculates the inverse of a matrix.\n",
    "#The significance of the np.linalg.inv function lies in various mathematical and computational applications, including:\n",
    "#1.Solving systems of linear equations\n",
    "#2.Finding solutions to optimization problems\n",
    "#3.Determining matrix properties"
   ]
  },
  {
   "cell_type": "code",
   "execution_count": 66,
   "id": "84f7df63-29ff-4a34-a4db-bdb11701cc65",
   "metadata": {},
   "outputs": [
    {
     "name": "stdout",
     "output_type": "stream",
     "text": [
      "[[ 1]\n",
      " [ 2]\n",
      " [ 3]\n",
      " [ 4]\n",
      " [ 5]\n",
      " [ 6]\n",
      " [ 7]\n",
      " [ 8]\n",
      " [ 9]\n",
      " [10]\n",
      " [11]\n",
      " [12]]\n"
     ]
    }
   ],
   "source": [
    "#14. What does the np.reshape function do, and how is it used?\n",
    "\n",
    "#Answer:\n",
    "#The np.reshape function is used to reshape the array in any shape but the\n",
    "#multiplication of shape must be equal to the size of the array\n",
    "#It is used by np.reshape function by passing array and the required shape\n",
    "#Example\n",
    "arr1=[[1, 2, 3, 4],\n",
    "[5, 6, 7, 8],\n",
    "[9, 10, 11, 12]]\n",
    "print(np.reshape(arr,(12,1)))"
   ]
  },
  {
   "cell_type": "code",
   "execution_count": 67,
   "id": "2a64ca54-edec-4914-860e-768ae15db125",
   "metadata": {},
   "outputs": [
    {
     "name": "stdout",
     "output_type": "stream",
     "text": [
      "[[1. 2. 3.]\n",
      " [1. 2. 3.]\n",
      " [1. 2. 3.]]\n"
     ]
    }
   ],
   "source": [
    "#15. What is broadcasting in Numpy?\n",
    "\n",
    "#Answer:\n",
    "#Broadcasting in NumPy is a powerful mechanism that allows arrays of different \n",
    "#shapes to be combined in arithmetic operations. When operating on arrays of \n",
    "#different shapes, NumPy automatically broadcasts the arrays to make them \n",
    "#compatible, if possible. This means that certain operations can be performed \n",
    "#even if the arrays do not have the same shape, as long as their shapes are \n",
    "#compatible according to broadcasting rules.\n",
    "#Example:\n",
    "arr1=np.zeros((3,3))\n",
    "arr2=np.array([1,2,3])\n",
    "print(arr1+arr2)"
   ]
  }
 ],
 "metadata": {
  "kernelspec": {
   "display_name": "Python 3 (ipykernel)",
   "language": "python",
   "name": "python3"
  },
  "language_info": {
   "codemirror_mode": {
    "name": "ipython",
    "version": 3
   },
   "file_extension": ".py",
   "mimetype": "text/x-python",
   "name": "python",
   "nbconvert_exporter": "python",
   "pygments_lexer": "ipython3",
   "version": "3.10.8"
  }
 },
 "nbformat": 4,
 "nbformat_minor": 5
}
